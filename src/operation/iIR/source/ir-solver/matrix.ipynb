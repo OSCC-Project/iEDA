{
 "cells": [
  {
   "cell_type": "code",
   "execution_count": 2,
   "id": "4aa45548",
   "metadata": {},
   "outputs": [
    {
     "name": "stdout",
     "output_type": "stream",
     "text": [
      "(24160, 24160)\n",
      "[4.898393 0.       0.       ... 0.       0.       0.      ]\n"
     ]
    }
   ],
   "source": [
    "from scipy.linalg import lu\n",
    "import numpy as np\n",
    "A = np.loadtxt('/home/taosimin/iEDA24/iEDA/bin/matrix.txt')\n",
    "print(A.shape)\n",
    "print(A[0])\n",
    "# det = np.linalg.det(A)\n",
    "# print(\"det(A) = \", det)\n",
    "\n",
    "# P, L, U = lu(A)\n",
    "# print(\"L\\n\", L)\n",
    "# print(\"U\\n\", U)\n",
    "# print(\"P\\n\", P)"
   ]
  },
  {
   "cell_type": "code",
   "execution_count": null,
   "id": "ad3fbc84",
   "metadata": {},
   "outputs": [
    {
     "name": "stdout",
     "output_type": "stream",
     "text": [
      "det(A) =  0.0\n"
     ]
    }
   ],
   "source": [
    "det = np.linalg.det(A)\n",
    "print(\"det(A) = \", det)"
   ]
  },
  {
   "cell_type": "code",
   "execution_count": 14,
   "id": "5fc764b6",
   "metadata": {},
   "outputs": [
    {
     "name": "stdout",
     "output_type": "stream",
     "text": [
      "(24160, 24160)\n",
      "[46.745508  0.        0.       ...  0.        0.        0.      ]\n"
     ]
    }
   ],
   "source": [
    "from scipy.linalg import lu\n",
    "import numpy as np\n",
    "A_random = np.loadtxt('/home/taosimin/iEDA24/iEDA/bin/matrix_random.txt')\n",
    "print(A_random.shape)\n",
    "print(A_random[0])"
   ]
  },
  {
   "cell_type": "code",
   "execution_count": 15,
   "id": "b28e6c45",
   "metadata": {},
   "outputs": [
    {
     "name": "stdout",
     "output_type": "stream",
     "text": [
      "det(A) =  0.0\n"
     ]
    }
   ],
   "source": [
    "det = np.linalg.det(A_random)\n",
    "print(\"det(A) = \", det)"
   ]
  },
  {
   "cell_type": "code",
   "execution_count": 17,
   "id": "27abb5f0",
   "metadata": {},
   "outputs": [
    {
     "name": "stdout",
     "output_type": "stream",
     "text": [
      "(20000, 20000)\n",
      "[1320.67583    0.         0.      ...    0.         0.         0.     ]\n",
      "det(A) =  inf\n"
     ]
    },
    {
     "name": "stderr",
     "output_type": "stream",
     "text": [
      "/home/taosimin/.conda/envs/tao-python/lib/python3.11/site-packages/numpy/linalg/linalg.py:2180: RuntimeWarning: overflow encountered in det\n",
      "  r = _umath_linalg.det(a, signature=signature)\n"
     ]
    }
   ],
   "source": [
    "from scipy.linalg import lu\n",
    "import numpy as np\n",
    "A_spef = np.loadtxt('/home/taosimin/iEDA24/iEDA/bin/matrix_spef.txt')\n",
    "print(A_spef.shape)\n",
    "print(A_spef[0])\n",
    "det = np.linalg.det(A_spef)\n",
    "print(\"det(A) = \", det)"
   ]
  },
  {
   "cell_type": "code",
   "execution_count": 19,
   "id": "57127796",
   "metadata": {},
   "outputs": [
    {
     "name": "stdout",
     "output_type": "stream",
     "text": [
      "(24160, 24160)\n",
      "[23.187326  0.        0.       ...  0.        0.        0.      ]\n",
      "det(A) =  0.0\n"
     ]
    }
   ],
   "source": [
    "from scipy.linalg import lu\n",
    "import numpy as np\n",
    "A_width = np.loadtxt('/home/taosimin/iEDA24/iEDA/bin/matrix_width.txt')\n",
    "print(A_width.shape)\n",
    "print(A_width[0])\n",
    "det = np.linalg.det(A_width)\n",
    "print(\"det(A) = \", det)"
   ]
  },
  {
   "cell_type": "code",
   "execution_count": 22,
   "id": "c28b2716",
   "metadata": {},
   "outputs": [
    {
     "name": "stdout",
     "output_type": "stream",
     "text": [
      "16x16 Submatrix:\n",
      " [[ 23.187326   0.         0.       -23.187326   0.         0.\n",
      "    0.         0.      ]\n",
      " [  0.         9.416266  -9.416266   0.         0.         0.\n",
      "    0.         0.      ]\n",
      " [  0.        -9.416266  19.187246  -9.77098    0.         0.\n",
      "    0.         0.      ]\n",
      " [-23.187326   0.        -9.77098   32.958306   0.         0.\n",
      "    0.         0.      ]\n",
      " [  0.         0.         0.         0.        24.373484   0.\n",
      "    0.       -24.373484]\n",
      " [  0.         0.         0.         0.         0.         9.477645\n",
      "   -9.477645   0.      ]\n",
      " [  0.         0.         0.         0.         0.        -9.477645\n",
      "   18.777665  -9.30002 ]\n",
      " [  0.         0.         0.         0.       -24.373484   0.\n",
      "   -9.30002   33.673504]]\n"
     ]
    }
   ],
   "source": [
    "# Extract a 16x16 submatrix from A\n",
    "submatrix_16x16 = A_width[:8, :8]\n",
    "print(\"16x16 Submatrix:\\n\", submatrix_16x16)"
   ]
  },
  {
   "cell_type": "code",
   "execution_count": 23,
   "id": "e3e7d439",
   "metadata": {},
   "outputs": [
    {
     "name": "stdout",
     "output_type": "stream",
     "text": [
      "rank(A) =  6\n",
      "A is not invertible\n"
     ]
    }
   ],
   "source": [
    "rank = np.linalg.matrix_rank(submatrix_16x16)\n",
    "print(\"rank(A) = \", rank)\n",
    "if rank == submatrix_16x16.shape[0]:\n",
    "    print(\"A is invertible\")\n",
    "else:\n",
    "    print(\"A is not invertible\")"
   ]
  },
  {
   "cell_type": "code",
   "execution_count": 6,
   "id": "c8983bd2",
   "metadata": {},
   "outputs": [
    {
     "name": "stdout",
     "output_type": "stream",
     "text": [
      "Eigenvalues:\n",
      " [ 1.10813786e+01  4.87622775e+00 -5.00000046e-07  1.24161813e+00\n",
      "  1.10912649e+01  5.09620160e+00 -7.17892787e-17  1.32113147e+00\n",
      "  1.08154092e+01  4.96512324e+00 -2.34324314e-16  1.26127157e+00\n",
      "  1.06926050e+01  4.81977748e+00  1.24510403e-16  1.23905555e+00]\n",
      "Eigenvectors:\n",
      " [[ 0.60787951  0.30187465 -0.5        -0.53791654  0.          0.\n",
      "   0.          0.          0.          0.          0.          0.\n",
      "   0.          0.          0.          0.        ]\n",
      " [-0.04078099  0.50522542 -0.49999991  0.70219959  0.          0.\n",
      "   0.          0.          0.          0.          0.          0.\n",
      "   0.          0.          0.          0.        ]\n",
      " [ 0.20019609 -0.80846589 -0.50000005  0.23728544  0.          0.\n",
      "   0.          0.          0.          0.          0.          0.\n",
      "   0.          0.          0.          0.        ]\n",
      " [-0.76729456  0.00136598 -0.50000005 -0.40156837  0.          0.\n",
      "   0.          0.          0.          0.          0.          0.\n",
      "   0.          0.          0.          0.        ]\n",
      " [ 0.          0.          0.          0.          0.59217053  0.325399\n",
      "   0.5        -0.54170985  0.          0.          0.          0.\n",
      "   0.          0.          0.          0.        ]\n",
      " [ 0.          0.          0.          0.         -0.04852791  0.49743016\n",
      "   0.5         0.70725404  0.          0.          0.          0.\n",
      "   0.          0.          0.          0.        ]\n",
      " [ 0.          0.          0.          0.          0.22778127 -0.80394153\n",
      "   0.5         0.22758232  0.          0.          0.          0.\n",
      "   0.          0.          0.          0.        ]\n",
      " [ 0.          0.          0.          0.         -0.77142388 -0.01888763\n",
      "   0.5        -0.39312651  0.          0.          0.          0.\n",
      "   0.          0.          0.          0.        ]\n",
      " [ 0.          0.          0.          0.          0.          0.\n",
      "   0.          0.          0.60001311  0.30946887  0.5        -0.54241432\n",
      "   0.          0.          0.          0.        ]\n",
      " [ 0.          0.          0.          0.          0.          0.\n",
      "   0.          0.         -0.04668199  0.50856201  0.5         0.69941795\n",
      "   0.          0.          0.          0.        ]\n",
      " [ 0.          0.          0.          0.          0.          0.\n",
      "   0.          0.          0.21563384 -0.8033544   0.5         0.24108868\n",
      "   0.          0.          0.          0.        ]\n",
      " [ 0.          0.          0.          0.          0.          0.\n",
      "   0.          0.         -0.76896496 -0.01467648  0.5        -0.39809231\n",
      "   0.          0.          0.          0.        ]\n",
      " [ 0.          0.          0.          0.          0.          0.\n",
      "   0.          0.          0.          0.          0.          0.\n",
      "   0.59971376  0.31432849 -0.5        -0.53994537]\n",
      " [ 0.          0.          0.          0.          0.          0.\n",
      "   0.          0.          0.          0.          0.          0.\n",
      "  -0.04484062  0.50108653 -0.5         0.70491248]\n",
      " [ 0.          0.          0.          0.          0.          0.\n",
      "   0.          0.          0.          0.          0.          0.\n",
      "   0.21469686 -0.80624174 -0.5         0.23211961]\n",
      " [ 0.          0.          0.          0.          0.          0.\n",
      "   0.          0.          0.          0.          0.          0.\n",
      "  -0.76957    -0.00917327 -0.5        -0.39708673]]\n"
     ]
    }
   ],
   "source": [
    "# Compute eigenvalues and eigenvectors of submatrix_16x16\n",
    "eigenvalues, eigenvectors = np.linalg.eig(submatrix_16x16)\n",
    "print(\"Eigenvalues:\\n\", eigenvalues)\n",
    "print(\"Eigenvectors:\\n\", eigenvectors)"
   ]
  },
  {
   "cell_type": "code",
   "execution_count": 12,
   "id": "df3172a2",
   "metadata": {},
   "outputs": [
    {
     "name": "stdout",
     "output_type": "stream",
     "text": [
      "(16, 16)\n",
      "det(B) =  -2.4104359769426856e-26\n"
     ]
    }
   ],
   "source": [
    "B = np.loadtxt('/home/taosimin/iEDA24/iEDA/bin/matrix_16.txt')\n",
    "print(B.shape)\n",
    "det = np.linalg.det(B)\n",
    "print(\"det(B) = \", det)"
   ]
  },
  {
   "cell_type": "code",
   "execution_count": 11,
   "id": "280e276d",
   "metadata": {},
   "outputs": [
    {
     "name": "stdout",
     "output_type": "stream",
     "text": [
      "Sum of row vectors:\n",
      " [0.00000000e+00 0.00000000e+00 2.22044605e-16 1.00000000e+00\n",
      " 0.00000000e+00 0.00000000e+00 0.00000000e+00 0.00000000e+00\n",
      " 0.00000000e+00 0.00000000e+00 2.22044605e-16 0.00000000e+00\n",
      " 0.00000000e+00 0.00000000e+00 0.00000000e+00 1.00000000e+00]\n"
     ]
    }
   ],
   "source": [
    "# Compute the sum of all row vectors of matrix B\n",
    "row_sum = np.sum(B, axis=0)\n",
    "print(\"Sum of row vectors:\\n\", row_sum)"
   ]
  },
  {
   "cell_type": "code",
   "execution_count": 20,
   "id": "6958daf1",
   "metadata": {},
   "outputs": [
    {
     "name": "stdout",
     "output_type": "stream",
     "text": [
      "Order 1 principal minor: 23.187326\n",
      "\n",
      "Order 2 principal minor: 218.338029444716\n",
      "\n",
      "Order 3 principal minor: 2133.376518943731\n",
      "\n",
      "Order 4 principal minor: 7.579275940883216e-12\n",
      "\n",
      "Order 5 principal minor: 1.8473336087670205e-10\n",
      "\n",
      "Order 6 principal minor: 1.7508372140462715e-09\n",
      "\n",
      "Order 7 principal minor: 1.628282110737461e-08\n",
      "\n",
      "Order 8 principal minor: 0.0\n",
      "\n"
     ]
    }
   ],
   "source": [
    "import numpy as np\n",
    "\n",
    "# Function to compute leading principal minors\n",
    "def compute_principal_minors(matrix, output_file):\n",
    "    n = matrix.shape[0]\n",
    "    minors = []\n",
    "    with open(output_file, 'w') as f:\n",
    "        for k in range(1, n + 1):\n",
    "            submatrix = matrix[:k, :k]\n",
    "            minor = np.linalg.det(submatrix)\n",
    "            print(f\"Order {k} principal minor: {minor}\\n\")\n",
    "            if minor == 0:\n",
    "                # f.write(\"This minor is singular.\\n\")\n",
    "                f.write(\"Submatrix:\\n\" + str(submatrix) + \"\\n\")\n",
    "                # f.write(\"Diagonal elements of submatrix:\\n\" + str(np.diag(submatrix)) + \"\\n\")\n",
    "                break\n",
    "            minors.append(minor)\n",
    "    return minors\n",
    "\n",
    "# Compute leading principal minors for A and write to file\n",
    "output_file = '/home/taosimin/iEDA24/iEDA/bin/principal_minors.txt'\n",
    "principal_minors = compute_principal_minors(A_width, output_file)"
   ]
  },
  {
   "cell_type": "code",
   "execution_count": 11,
   "id": "ffdce37e",
   "metadata": {},
   "outputs": [
    {
     "name": "stdout",
     "output_type": "stream",
     "text": [
      "Singular values: [1.13422499e+01 1.11233413e+01 1.10759291e+01 1.08536643e+01\n",
      " 5.07415226e+00 5.02173876e+00 5.00197965e+00 4.94629439e+00\n",
      " 1.29800055e+00 1.27308849e+00 1.26405694e+00 1.25329841e+00\n",
      " 7.15646007e-16 4.59950374e-16 3.91782676e-16 9.54863499e-17]\n"
     ]
    }
   ],
   "source": [
    "# 使用 SVD 分解检查线性相关性\n",
    "u, s, vh = np.linalg.svd(A)\n",
    "print(f\"Singular values: {s}\")"
   ]
  },
  {
   "cell_type": "code",
   "execution_count": 19,
   "id": "806299ff",
   "metadata": {},
   "outputs": [
    {
     "name": "stdout",
     "output_type": "stream",
     "text": [
      "1000000001.004924\n"
     ]
    }
   ],
   "source": [
    "print(A[29340,29340])"
   ]
  },
  {
   "cell_type": "code",
   "execution_count": null,
   "id": "63886deb",
   "metadata": {},
   "outputs": [],
   "source": [
    "# 计算条件数（默认使用 2-范数）\n",
    "condition_number = np.linalg.cond(A)\n",
    "\n",
    "# 打印结果\n",
    "print(f\"矩阵 A 的条件数: {condition_number}\")"
   ]
  },
  {
   "cell_type": "code",
   "execution_count": 27,
   "id": "bba43a0d",
   "metadata": {},
   "outputs": [
    {
     "name": "stdout",
     "output_type": "stream",
     "text": [
      "L\n",
      " [[ 1.          0.          0.         ...  0.          0.\n",
      "   0.        ]\n",
      " [-1.          1.          0.         ...  0.          0.\n",
      "   0.        ]\n",
      " [ 0.          0.          1.         ...  0.          0.\n",
      "   0.        ]\n",
      " ...\n",
      " [ 0.          0.          0.         ...  1.          0.\n",
      "   0.        ]\n",
      " [ 0.          0.          0.         ... -0.99999999  1.\n",
      "   0.        ]\n",
      " [ 0.          0.          0.         ... -0.         -0.\n",
      "   1.        ]]\n",
      "U\n",
      " [[ 4.87023900e+00 -4.87023900e+00  0.00000000e+00 ...  0.00000000e+00\n",
      "   0.00000000e+00  0.00000000e+00]\n",
      " [ 0.00000000e+00  1.00378788e+03  0.00000000e+00 ...  0.00000000e+00\n",
      "   0.00000000e+00  0.00000000e+00]\n",
      " [ 0.00000000e+00  0.00000000e+00  1.00378788e+03 ...  0.00000000e+00\n",
      "   0.00000000e+00  0.00000000e+00]\n",
      " ...\n",
      " [ 0.00000000e+00  0.00000000e+00  0.00000000e+00 ... -8.68238288e+04\n",
      "   8.68238283e+04  0.00000000e+00]\n",
      " [ 0.00000000e+00  0.00000000e+00  0.00000000e+00 ...  0.00000000e+00\n",
      "  -9.53355848e-04  0.00000000e+00]\n",
      " [ 0.00000000e+00  0.00000000e+00  0.00000000e+00 ...  0.00000000e+00\n",
      "   0.00000000e+00  9.98774227e+08]]\n",
      "P\n",
      " [[1. 0. 0. ... 0. 0. 0.]\n",
      " [0. 1. 0. ... 0. 0. 0.]\n",
      " [0. 0. 1. ... 0. 0. 0.]\n",
      " ...\n",
      " [0. 0. 0. ... 0. 1. 0.]\n",
      " [0. 0. 0. ... 1. 0. 0.]\n",
      " [0. 0. 0. ... 0. 0. 0.]]\n"
     ]
    }
   ],
   "source": [
    "P, L, U = lu(A)\n",
    "print(\"L\\n\", L)\n",
    "print(\"U\\n\", U)\n",
    "print(\"P\\n\", P)"
   ]
  },
  {
   "cell_type": "code",
   "execution_count": 28,
   "id": "2be3e9f5",
   "metadata": {},
   "outputs": [
    {
     "name": "stdout",
     "output_type": "stream",
     "text": [
      "Diagonal contains zero: False\n"
     ]
    }
   ],
   "source": [
    "import numpy as np\n",
    "\n",
    "# Assuming A is already loaded\n",
    "diagonal_elements = np.diag(A)\n",
    "contains_zero = np.any(diagonal_elements == 0)\n",
    "\n",
    "print(\"Diagonal contains zero:\", contains_zero)"
   ]
  },
  {
   "cell_type": "code",
   "execution_count": 8,
   "id": "7b2d383a",
   "metadata": {},
   "outputs": [
    {
     "name": "stdout",
     "output_type": "stream",
     "text": [
      "nonzero_elements =  [   -3.787879  1007.575758    -3.787879 -1000.      ]\n"
     ]
    }
   ],
   "source": [
    "select_A_row = A[3]\n",
    "nonzero_elements = select_A_row[select_A_row != 0]\n",
    "print(\"nonzero_elements = \", nonzero_elements)"
   ]
  },
  {
   "cell_type": "code",
   "execution_count": 4,
   "id": "d0985d44",
   "metadata": {},
   "outputs": [
    {
     "name": "stdout",
     "output_type": "stream",
     "text": [
      "non zero conductance: [-4.87023900e+00 -4.87023900e+00 -3.78787900e+00 ... -9.53819322e+03\n",
      " -9.75603620e+03 -3.01477000e-01]\n",
      "sum resistance:  84270.94794525906\n",
      "max resistance:  39.07165741970775\n"
     ]
    }
   ],
   "source": [
    "# 获取矩阵形状\n",
    "n = A.shape[0]\n",
    "\n",
    "# 创建布尔掩码，标记非对角元素（对角线元素为 False）\n",
    "non_diagonal_mask = ~np.eye(n, dtype=bool)\n",
    "\n",
    "# 提取非对角元素\n",
    "non_diagonal_elements = A[non_diagonal_mask]\n",
    "\n",
    "\n",
    "# 过滤非零元素\n",
    "non_zero_elements = non_diagonal_elements[non_diagonal_elements != 0]\n",
    "print(\"non zero conductance:\", non_zero_elements)\n",
    "\n",
    "# 计算倒数并求和，对称矩阵取一半\n",
    "reciprocal_sum = np.sum(1 / -non_zero_elements) * 0.5\n",
    "print(\"sum resistance: \", reciprocal_sum)\n",
    "\n",
    "# 计算最大元素\n",
    "max_element = np.max(1 / -non_zero_elements)\n",
    "print(\"max resistance: \", max_element)"
   ]
  },
  {
   "cell_type": "code",
   "execution_count": 24,
   "id": "8e55ae69",
   "metadata": {},
   "outputs": [
    {
     "name": "stdout",
     "output_type": "stream",
     "text": [
      "(29341,)\n",
      "[ 0.000000e+00  0.000000e+00  0.000000e+00 ... -2.399728e-10 -2.399728e-10\n",
      "  8.100000e+05]\n"
     ]
    }
   ],
   "source": [
    "current = np.loadtxt('/home/taosimin/iEDA24/iEDA/bin/current.txt')\n",
    "print(current.shape)\n",
    "print(current)"
   ]
  },
  {
   "cell_type": "code",
   "execution_count": 38,
   "id": "05b10e27",
   "metadata": {},
   "outputs": [
    {
     "name": "stdout",
     "output_type": "stream",
     "text": [
      "810000.0\n",
      "current sum: 809999.9456009808\n"
     ]
    }
   ],
   "source": [
    "print(current[29340])\n",
    "print(\"current sum:\", np.sum(current))"
   ]
  },
  {
   "cell_type": "code",
   "execution_count": 30,
   "id": "c9aae43d",
   "metadata": {},
   "outputs": [
    {
     "name": "stdout",
     "output_type": "stream",
     "text": [
      "Voltage X:\n",
      " [ 0.73606855  0.73606855  0.73649686 ... 22.69331328 22.69331328\n",
      "  0.81      ]\n"
     ]
    }
   ],
   "source": [
    "# Step 1: Solve LY = Pb for Y using forward substitution\n",
    "Y = np.linalg.solve(L, P @ current)\n",
    "\n",
    "# Step 2: Solve UX = Y for X using backward substitution\n",
    "X = np.linalg.solve(U, Y)\n",
    "\n",
    "print(\"Voltage X:\\n\", X)"
   ]
  },
  {
   "cell_type": "code",
   "execution_count": 32,
   "id": "52c69755",
   "metadata": {},
   "outputs": [
    {
     "name": "stdout",
     "output_type": "stream",
     "text": [
      "22.69331327574489\n"
     ]
    }
   ],
   "source": [
    "print(X[29374])"
   ]
  },
  {
   "cell_type": "code",
   "execution_count": 31,
   "id": "927adbd3",
   "metadata": {},
   "outputs": [
    {
     "name": "stdout",
     "output_type": "stream",
     "text": [
      "non-negative sum =  0.05439902411985316\n"
     ]
    }
   ],
   "source": [
    "instance_current_sum = current[current < 0].sum()\n",
    "print(\"non-negative sum = \", -instance_current_sum)"
   ]
  },
  {
   "cell_type": "code",
   "execution_count": 25,
   "id": "f0bce32f",
   "metadata": {},
   "outputs": [
    {
     "name": "stdout",
     "output_type": "stream",
     "text": [
      "(29341,)\n",
      "[ 8.076774e-01  8.076774e-01  8.076906e-01 ... -2.998906e+05 -2.998906e+05\n",
      "  8.100000e-01]\n"
     ]
    }
   ],
   "source": [
    "volatage = np.loadtxt('/home/taosimin/iEDA24/iEDA/bin/voltage.txt')\n",
    "print(volatage.shape)\n",
    "print(volatage)\n"
   ]
  },
  {
   "cell_type": "code",
   "execution_count": 10,
   "id": "f4c94c16",
   "metadata": {},
   "outputs": [
    {
     "name": "stdout",
     "output_type": "stream",
     "text": [
      "nonzero_elements: [ 16.234129 -16.234129]\n",
      "select_A_row: [0. 0. 0. ... 0. 0. 0.]\n",
      "volatage: [-308908.4 -308908.4]\n",
      "calc current: 0.0\n",
      "recalc current: 2.2957592500461018e-11\n",
      "current: 0.0\n"
     ]
    }
   ],
   "source": [
    "select_row_index = 90\n",
    "select_A_row = A[select_row_index]\n",
    "row_current = select_A_row @ volatage\n",
    "mask = select_A_row != 0\n",
    "nonzero_elements = select_A_row[mask]\n",
    "print(\"nonzero_elements:\", nonzero_elements)\n",
    "print(\"select_A_row:\", select_A_row)\n",
    "print(\"volatage:\", volatage[mask.reshape(-1)])\n",
    "print(\"calc current:\", row_current)\n",
    "print(\"recalc current:\", nonzero_elements @ volatage[mask.reshape(-1)])\n",
    "print(\"current:\", current[select_row_index])"
   ]
  },
  {
   "cell_type": "code",
   "execution_count": 14,
   "id": "7bbe2e49",
   "metadata": {},
   "outputs": [
    {
     "name": "stdout",
     "output_type": "stream",
     "text": [
      "select column of A:\n",
      "[ 16.234129 -16.234129]\n"
     ]
    }
   ],
   "source": [
    "column_select = A[:, 90]\n",
    "\n",
    "# Print the selected column\n",
    "print(\"select column of A:\")\n",
    "mask = column_select != 0\n",
    "nonzero_elements = column_select[mask]\n",
    "print(nonzero_elements)"
   ]
  },
  {
   "cell_type": "code",
   "execution_count": 22,
   "id": "e28d176c",
   "metadata": {},
   "outputs": [
    {
     "name": "stdout",
     "output_type": "stream",
     "text": [
      "Number of elements less than 0 in volatage: 20700\n",
      "less zero conductance: [-113754.6 -113754.6 -113754.6 ... -299890.6 -299890.6 -299890.6]\n"
     ]
    }
   ],
   "source": [
    "mask = volatage < 0\n",
    "\n",
    "# Count the number of True values in the mask\n",
    "count_less_than_zero = np.sum(mask)\n",
    "\n",
    "# Print the result\n",
    "print(\"Number of elements less than 0 in volatage:\", count_less_than_zero)\n",
    "\n",
    "less_zero_elements = volatage[volatage < 0]\n",
    "print(\"less zero conductance:\", less_zero_elements)\n"
   ]
  },
  {
   "cell_type": "code",
   "execution_count": 7,
   "id": "3d478320",
   "metadata": {},
   "outputs": [
    {
     "name": "stdout",
     "output_type": "stream",
     "text": [
      "First element less than 0 is at index: 90\n"
     ]
    }
   ],
   "source": [
    "# Find the indices where volatage is less than 0\n",
    "indices = np.where(volatage < 0)[0]\n",
    "\n",
    "# Get the first index if it exists\n",
    "if indices.size > 0:\n",
    "    first_negative_index = indices[0]\n",
    "    print(\"First element less than 0 is at index:\", first_negative_index)\n",
    "else:\n",
    "    print(\"No elements less than 0 found.\")"
   ]
  },
  {
   "cell_type": "code",
   "execution_count": 45,
   "id": "63ebb733",
   "metadata": {},
   "outputs": [
    {
     "name": "stdout",
     "output_type": "stream",
     "text": [
      "voltage: [ 8.076774e-01  8.076774e-01  8.076906e-01 ... -2.998906e+05 -2.998906e+05\n",
      "  8.100000e-01]\n",
      "residual: 46.56172261490813\n"
     ]
    }
   ],
   "source": [
    "residual = np.linalg.norm(A @ volatage - current)\n",
    "print(\"voltage:\", volatage)\n",
    "print(f\"residual: {residual}\")"
   ]
  },
  {
   "cell_type": "code",
   "execution_count": 44,
   "id": "6abcc3f2",
   "metadata": {},
   "outputs": [
    {
     "name": "stdout",
     "output_type": "stream",
     "text": [
      "test voltage: [0.80999 0.80999 0.80999 ... 0.80999 0.80999 0.80999]\n",
      "residual: 10.000000072370868\n"
     ]
    }
   ],
   "source": [
    "test_voltage = np.ones_like(volatage) * 0.80999\n",
    "print(\"test voltage:\", test_voltage)\n",
    "test_residual = np.linalg.norm(A @ test_voltage - current)\n",
    "print(f\"residual: {test_residual}\")"
   ]
  },
  {
   "cell_type": "code",
   "execution_count": 46,
   "id": "f44dc0c0",
   "metadata": {},
   "outputs": [
    {
     "name": "stdout",
     "output_type": "stream",
     "text": [
      "[2.28938656e-04 1.63938842e-03 1.50719387e-03 ... 1.94983505e+01\n",
      " 1.93183824e+01 1.00001003e+00]\n"
     ]
    }
   ],
   "source": [
    "# 标准化矩阵\n",
    "A_norm = A / np.linalg.norm(A, axis=0)  # 按列标准化\n",
    "b_norm = current / np.linalg.norm(current)\n",
    "X = np.linalg.solve(A_norm, b_norm)\n",
    "print(X)"
   ]
  },
  {
   "cell_type": "code",
   "execution_count": 47,
   "id": "b5c84c2f",
   "metadata": {},
   "outputs": [
    {
     "ename": "",
     "evalue": "",
     "output_type": "error",
     "traceback": [
      "\u001b[1;31mThe Kernel crashed while executing code in the current cell or a previous cell. \n",
      "\u001b[1;31mPlease review the code in the cell(s) to identify a possible cause of the failure. \n",
      "\u001b[1;31mClick <a href='https://aka.ms/vscodeJupyterKernelCrash'>here</a> for more info. \n",
      "\u001b[1;31mView Jupyter <a href='command:jupyter.viewOutput'>log</a> for further details."
     ]
    }
   ],
   "source": [
    "X = np.linalg.pinv(A) @ current\n",
    "print(X)"
   ]
  },
  {
   "cell_type": "code",
   "execution_count": 9,
   "id": "001fc3d6",
   "metadata": {},
   "outputs": [
    {
     "name": "stdout",
     "output_type": "stream",
     "text": [
      "0.7873041\n"
     ]
    }
   ],
   "source": [
    "print(volatage[89])"
   ]
  },
  {
   "cell_type": "code",
   "execution_count": null,
   "id": "500d6216",
   "metadata": {},
   "outputs": [
    {
     "name": "stdout",
     "output_type": "stream",
     "text": [
      "IRDrop 最大值: 0.2311\n",
      "IRDrop 最小值: 0.0006786\n"
     ]
    }
   ],
   "source": [
    "import pandas as pd\n",
    "import numpy as np\n",
    "\n",
    "# 读取 CSV\n",
    "df = pd.read_csv('/home/taosimin/iEDA24/iEDA/bin/spef_def/aes_ir_drop.csv')\n",
    "\n",
    "# 转为 NumPy 数组\n",
    "ir_drop = df['IR Drop'].to_numpy()\n",
    "\n",
    "# 计算最大值和最小值\n",
    "ir_drop_max = np.max(ir_drop)\n",
    "ir_drop_min = np.min(ir_drop)\n",
    "print(f\"IRDrop 最大值: {ir_drop_max}\")\n",
    "print(f\"IRDrop 最小值: {ir_drop_min}\")"
   ]
  },
  {
   "cell_type": "code",
   "execution_count": null,
   "id": "18f72993",
   "metadata": {},
   "outputs": [],
   "source": [
    "# Compute the determinant of matrix A manually\n",
    "def compute_determinant(matrix):\n",
    "    n = len(matrix)\n",
    "    determinant = 1\n",
    "    for i in range(n):\n",
    "        # Partial pivoting\n",
    "        max_row = i + np.argmax(np.abs(matrix[i:, i]))\n",
    "        if max_row != i:\n",
    "            matrix[[i, max_row]] = matrix[[max_row, i]]\n",
    "            determinant *= -1  # Swap changes the sign of determinant\n",
    "\n",
    "        # Check for singular matrix\n",
    "        if matrix[i, i] == 0:\n",
    "            return 0\n",
    "\n",
    "        # Scale the pivot row\n",
    "        pivot = matrix[i, i]\n",
    "        determinant *= pivot\n",
    "        matrix[i] = matrix[i] / pivot\n",
    "\n",
    "        # Eliminate below pivot\n",
    "        for j in range(i + 1, n):\n",
    "            matrix[j] -= matrix[j, i] * matrix[i]\n",
    "\n",
    "    return determinant\n",
    "\n",
    "# Make a copy of A to avoid modifying the original matrix\n",
    "A_copy = A.copy()\n",
    "det_A_manual = compute_determinant(A_copy)\n",
    "print(\"Determinant of A (manual calculation):\", det_A_manual)"
   ]
  },
  {
   "cell_type": "code",
   "execution_count": null,
   "id": "51352ec5",
   "metadata": {},
   "outputs": [],
   "source": []
  }
 ],
 "metadata": {
  "kernelspec": {
   "display_name": "tao-python",
   "language": "python",
   "name": "python3"
  },
  "language_info": {
   "codemirror_mode": {
    "name": "ipython",
    "version": 3
   },
   "file_extension": ".py",
   "mimetype": "text/x-python",
   "name": "python",
   "nbconvert_exporter": "python",
   "pygments_lexer": "ipython3",
   "version": "3.11.5"
  }
 },
 "nbformat": 4,
 "nbformat_minor": 5
}
