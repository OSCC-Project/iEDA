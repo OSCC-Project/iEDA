{
 "cells": [
  {
   "cell_type": "code",
   "execution_count": 2,
   "id": "4aa45548",
   "metadata": {},
   "outputs": [
    {
     "name": "stderr",
     "output_type": "stream",
     "text": [
      "/home/taosimin/.conda/envs/tao-python/lib/python3.11/site-packages/numpy/linalg/linalg.py:2154: RuntimeWarning: overflow encountered in det\n",
      "  r = _umath_linalg.det(a, signature=signature)\n"
     ]
    },
    {
     "name": "stdout",
     "output_type": "stream",
     "text": [
      "det(A) =  inf\n",
      "L\n",
      " [[ 1.          0.          0.         ...  0.          0.\n",
      "   0.        ]\n",
      " [-1.          1.          0.         ...  0.          0.\n",
      "   0.        ]\n",
      " [ 0.          0.          1.         ...  0.          0.\n",
      "   0.        ]\n",
      " ...\n",
      " [ 0.          0.          0.         ...  1.          0.\n",
      "   0.        ]\n",
      " [ 0.          0.          0.         ... -0.99977593  1.\n",
      "   0.        ]\n",
      " [ 0.          0.          0.         ...  0.          0.\n",
      "   1.        ]]\n",
      "U\n",
      " [[ 2.43511900e+00 -2.43511900e+00  0.00000000e+00 ...  0.00000000e+00\n",
      "   0.00000000e+00  0.00000000e+00]\n",
      " [ 0.00000000e+00  1.00189394e+03  0.00000000e+00 ...  0.00000000e+00\n",
      "   0.00000000e+00  0.00000000e+00]\n",
      " [ 0.00000000e+00  0.00000000e+00  1.00189394e+03 ...  0.00000000e+00\n",
      "   0.00000000e+00  0.00000000e+00]\n",
      " ...\n",
      " [ 0.00000000e+00  0.00000000e+00  0.00000000e+00 ...  8.55206914e-01\n",
      "  -8.55015289e-01  0.00000000e+00]\n",
      " [ 0.00000000e+00  0.00000000e+00  0.00000000e+00 ...  0.00000000e+00\n",
      "   3.82422344e-04  0.00000000e+00]\n",
      " [ 0.00000000e+00  0.00000000e+00  0.00000000e+00 ...  0.00000000e+00\n",
      "   0.00000000e+00  1.00000000e+09]]\n",
      "P\n",
      " [[1. 0. 0. ... 0. 0. 0.]\n",
      " [0. 1. 0. ... 0. 0. 0.]\n",
      " [0. 0. 1. ... 0. 0. 0.]\n",
      " ...\n",
      " [0. 0. 0. ... 1. 0. 0.]\n",
      " [0. 0. 0. ... 0. 1. 0.]\n",
      " [0. 0. 0. ... 0. 0. 1.]]\n"
     ]
    }
   ],
   "source": [
    "from scipy.linalg import lu\n",
    "import numpy as np\n",
    "A = np.loadtxt('/home/taosimin/iEDA24/iEDA/bin/matrix.txt')\n",
    "det = np.linalg.det(A)\n",
    "print(\"det(A) = \", det)\n",
    "\n",
    "P, L, U = lu(A)\n",
    "print(\"L\\n\", L)\n",
    "print(\"U\\n\", U)\n",
    "print(\"P\\n\", P)"
   ]
  }
 ],
 "metadata": {
  "kernelspec": {
   "display_name": "tao-python",
   "language": "python",
   "name": "python3"
  },
  "language_info": {
   "codemirror_mode": {
    "name": "ipython",
    "version": 3
   },
   "file_extension": ".py",
   "mimetype": "text/x-python",
   "name": "python",
   "nbconvert_exporter": "python",
   "pygments_lexer": "ipython3",
   "version": "3.11.5"
  }
 },
 "nbformat": 4,
 "nbformat_minor": 5
}
