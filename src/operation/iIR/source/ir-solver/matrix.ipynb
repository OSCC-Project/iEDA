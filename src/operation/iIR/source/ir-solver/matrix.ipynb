{
 "cells": [
  {
   "cell_type": "code",
   "execution_count": 23,
   "id": "4aa45548",
   "metadata": {},
   "outputs": [
    {
     "name": "stdout",
     "output_type": "stream",
     "text": [
      "(29341, 29341)\n",
      "[ 162.341286 -162.341286    0.       ...    0.          0.\n",
      "    0.      ]\n"
     ]
    }
   ],
   "source": [
    "from scipy.linalg import lu\n",
    "import numpy as np\n",
    "A = np.loadtxt('/home/taosimin/iEDA24/iEDA/bin/matrix.txt')\n",
    "print(A.shape)\n",
    "print(A[0])\n",
    "# det = np.linalg.det(A)\n",
    "# print(\"det(A) = \", det)\n",
    "\n",
    "# P, L, U = lu(A)\n",
    "# print(\"L\\n\", L)\n",
    "# print(\"U\\n\", U)\n",
    "# print(\"P\\n\", P)"
   ]
  },
  {
   "cell_type": "code",
   "execution_count": 23,
   "id": "53ec78ea",
   "metadata": {},
   "outputs": [
    {
     "name": "stdout",
     "output_type": "stream",
     "text": [
      "det(A) =  inf\n"
     ]
    },
    {
     "name": "stderr",
     "output_type": "stream",
     "text": [
      "/home/taosimin/.conda/envs/tao-python/lib/python3.11/site-packages/numpy/linalg/linalg.py:2154: RuntimeWarning: overflow encountered in det\n",
      "  r = _umath_linalg.det(a, signature=signature)\n"
     ]
    }
   ],
   "source": [
    "det = np.linalg.det(A)\n",
    "print(\"det(A) = \", det)"
   ]
  },
  {
   "cell_type": "code",
   "execution_count": 19,
   "id": "806299ff",
   "metadata": {},
   "outputs": [
    {
     "name": "stdout",
     "output_type": "stream",
     "text": [
      "1000000001.004924\n"
     ]
    }
   ],
   "source": [
    "print(A[29340,29340])"
   ]
  },
  {
   "cell_type": "code",
   "execution_count": null,
   "id": "63886deb",
   "metadata": {},
   "outputs": [],
   "source": [
    "# 计算条件数（默认使用 2-范数）\n",
    "condition_number = np.linalg.cond(A)\n",
    "\n",
    "# 打印结果\n",
    "print(f\"矩阵 A 的条件数: {condition_number}\")"
   ]
  },
  {
   "cell_type": "code",
   "execution_count": 27,
   "id": "bba43a0d",
   "metadata": {},
   "outputs": [
    {
     "name": "stdout",
     "output_type": "stream",
     "text": [
      "L\n",
      " [[ 1.          0.          0.         ...  0.          0.\n",
      "   0.        ]\n",
      " [-1.          1.          0.         ...  0.          0.\n",
      "   0.        ]\n",
      " [ 0.          0.          1.         ...  0.          0.\n",
      "   0.        ]\n",
      " ...\n",
      " [ 0.          0.          0.         ...  1.          0.\n",
      "   0.        ]\n",
      " [ 0.          0.          0.         ... -0.99999999  1.\n",
      "   0.        ]\n",
      " [ 0.          0.          0.         ... -0.         -0.\n",
      "   1.        ]]\n",
      "U\n",
      " [[ 4.87023900e+00 -4.87023900e+00  0.00000000e+00 ...  0.00000000e+00\n",
      "   0.00000000e+00  0.00000000e+00]\n",
      " [ 0.00000000e+00  1.00378788e+03  0.00000000e+00 ...  0.00000000e+00\n",
      "   0.00000000e+00  0.00000000e+00]\n",
      " [ 0.00000000e+00  0.00000000e+00  1.00378788e+03 ...  0.00000000e+00\n",
      "   0.00000000e+00  0.00000000e+00]\n",
      " ...\n",
      " [ 0.00000000e+00  0.00000000e+00  0.00000000e+00 ... -8.68238288e+04\n",
      "   8.68238283e+04  0.00000000e+00]\n",
      " [ 0.00000000e+00  0.00000000e+00  0.00000000e+00 ...  0.00000000e+00\n",
      "  -9.53355848e-04  0.00000000e+00]\n",
      " [ 0.00000000e+00  0.00000000e+00  0.00000000e+00 ...  0.00000000e+00\n",
      "   0.00000000e+00  9.98774227e+08]]\n",
      "P\n",
      " [[1. 0. 0. ... 0. 0. 0.]\n",
      " [0. 1. 0. ... 0. 0. 0.]\n",
      " [0. 0. 1. ... 0. 0. 0.]\n",
      " ...\n",
      " [0. 0. 0. ... 0. 1. 0.]\n",
      " [0. 0. 0. ... 1. 0. 0.]\n",
      " [0. 0. 0. ... 0. 0. 0.]]\n"
     ]
    }
   ],
   "source": [
    "P, L, U = lu(A)\n",
    "print(\"L\\n\", L)\n",
    "print(\"U\\n\", U)\n",
    "print(\"P\\n\", P)"
   ]
  },
  {
   "cell_type": "code",
   "execution_count": 28,
   "id": "2be3e9f5",
   "metadata": {},
   "outputs": [
    {
     "name": "stdout",
     "output_type": "stream",
     "text": [
      "Diagonal contains zero: False\n"
     ]
    }
   ],
   "source": [
    "import numpy as np\n",
    "\n",
    "# Assuming A is already loaded\n",
    "diagonal_elements = np.diag(A)\n",
    "contains_zero = np.any(diagonal_elements == 0)\n",
    "\n",
    "print(\"Diagonal contains zero:\", contains_zero)"
   ]
  },
  {
   "cell_type": "code",
   "execution_count": 8,
   "id": "7b2d383a",
   "metadata": {},
   "outputs": [
    {
     "name": "stdout",
     "output_type": "stream",
     "text": [
      "nonzero_elements =  [   -3.787879  1007.575758    -3.787879 -1000.      ]\n"
     ]
    }
   ],
   "source": [
    "select_A_row = A[3]\n",
    "nonzero_elements = select_A_row[select_A_row != 0]\n",
    "print(\"nonzero_elements = \", nonzero_elements)"
   ]
  },
  {
   "cell_type": "code",
   "execution_count": 4,
   "id": "d0985d44",
   "metadata": {},
   "outputs": [
    {
     "name": "stdout",
     "output_type": "stream",
     "text": [
      "non zero conductance: [-4.87023900e+00 -4.87023900e+00 -3.78787900e+00 ... -9.53819322e+03\n",
      " -9.75603620e+03 -3.01477000e-01]\n",
      "sum resistance:  84270.94794525906\n",
      "max resistance:  39.07165741970775\n"
     ]
    }
   ],
   "source": [
    "# 获取矩阵形状\n",
    "n = A.shape[0]\n",
    "\n",
    "# 创建布尔掩码，标记非对角元素（对角线元素为 False）\n",
    "non_diagonal_mask = ~np.eye(n, dtype=bool)\n",
    "\n",
    "# 提取非对角元素\n",
    "non_diagonal_elements = A[non_diagonal_mask]\n",
    "\n",
    "\n",
    "# 过滤非零元素\n",
    "non_zero_elements = non_diagonal_elements[non_diagonal_elements != 0]\n",
    "print(\"non zero conductance:\", non_zero_elements)\n",
    "\n",
    "# 计算倒数并求和，对称矩阵取一半\n",
    "reciprocal_sum = np.sum(1 / -non_zero_elements) * 0.5\n",
    "print(\"sum resistance: \", reciprocal_sum)\n",
    "\n",
    "# 计算最大元素\n",
    "max_element = np.max(1 / -non_zero_elements)\n",
    "print(\"max resistance: \", max_element)"
   ]
  },
  {
   "cell_type": "code",
   "execution_count": 24,
   "id": "8e55ae69",
   "metadata": {},
   "outputs": [
    {
     "name": "stdout",
     "output_type": "stream",
     "text": [
      "(29341,)\n",
      "[ 0.000000e+00  0.000000e+00  0.000000e+00 ... -2.399728e-10 -2.399728e-10\n",
      "  8.100000e+05]\n"
     ]
    }
   ],
   "source": [
    "current = np.loadtxt('/home/taosimin/iEDA24/iEDA/bin/current.txt')\n",
    "print(current.shape)\n",
    "print(current)"
   ]
  },
  {
   "cell_type": "code",
   "execution_count": 38,
   "id": "05b10e27",
   "metadata": {},
   "outputs": [
    {
     "name": "stdout",
     "output_type": "stream",
     "text": [
      "810000.0\n",
      "current sum: 809999.9456009808\n"
     ]
    }
   ],
   "source": [
    "print(current[29340])\n",
    "print(\"current sum:\", np.sum(current))"
   ]
  },
  {
   "cell_type": "code",
   "execution_count": 30,
   "id": "c9aae43d",
   "metadata": {},
   "outputs": [
    {
     "name": "stdout",
     "output_type": "stream",
     "text": [
      "Voltage X:\n",
      " [ 0.73606855  0.73606855  0.73649686 ... 22.69331328 22.69331328\n",
      "  0.81      ]\n"
     ]
    }
   ],
   "source": [
    "# Step 1: Solve LY = Pb for Y using forward substitution\n",
    "Y = np.linalg.solve(L, P @ current)\n",
    "\n",
    "# Step 2: Solve UX = Y for X using backward substitution\n",
    "X = np.linalg.solve(U, Y)\n",
    "\n",
    "print(\"Voltage X:\\n\", X)"
   ]
  },
  {
   "cell_type": "code",
   "execution_count": 32,
   "id": "52c69755",
   "metadata": {},
   "outputs": [
    {
     "name": "stdout",
     "output_type": "stream",
     "text": [
      "22.69331327574489\n"
     ]
    }
   ],
   "source": [
    "print(X[29374])"
   ]
  },
  {
   "cell_type": "code",
   "execution_count": 31,
   "id": "927adbd3",
   "metadata": {},
   "outputs": [
    {
     "name": "stdout",
     "output_type": "stream",
     "text": [
      "non-negative sum =  0.05439902411985316\n"
     ]
    }
   ],
   "source": [
    "instance_current_sum = current[current < 0].sum()\n",
    "print(\"non-negative sum = \", -instance_current_sum)"
   ]
  },
  {
   "cell_type": "code",
   "execution_count": 25,
   "id": "f0bce32f",
   "metadata": {},
   "outputs": [
    {
     "name": "stdout",
     "output_type": "stream",
     "text": [
      "(29341,)\n",
      "[ 8.076774e-01  8.076774e-01  8.076906e-01 ... -2.998906e+05 -2.998906e+05\n",
      "  8.100000e-01]\n"
     ]
    }
   ],
   "source": [
    "volatage = np.loadtxt('/home/taosimin/iEDA24/iEDA/bin/voltage.txt')\n",
    "print(volatage.shape)\n",
    "print(volatage)\n"
   ]
  },
  {
   "cell_type": "code",
   "execution_count": 10,
   "id": "f4c94c16",
   "metadata": {},
   "outputs": [
    {
     "name": "stdout",
     "output_type": "stream",
     "text": [
      "nonzero_elements: [ 16.234129 -16.234129]\n",
      "select_A_row: [0. 0. 0. ... 0. 0. 0.]\n",
      "volatage: [-308908.4 -308908.4]\n",
      "calc current: 0.0\n",
      "recalc current: 2.2957592500461018e-11\n",
      "current: 0.0\n"
     ]
    }
   ],
   "source": [
    "select_row_index = 90\n",
    "select_A_row = A[select_row_index]\n",
    "row_current = select_A_row @ volatage\n",
    "mask = select_A_row != 0\n",
    "nonzero_elements = select_A_row[mask]\n",
    "print(\"nonzero_elements:\", nonzero_elements)\n",
    "print(\"select_A_row:\", select_A_row)\n",
    "print(\"volatage:\", volatage[mask.reshape(-1)])\n",
    "print(\"calc current:\", row_current)\n",
    "print(\"recalc current:\", nonzero_elements @ volatage[mask.reshape(-1)])\n",
    "print(\"current:\", current[select_row_index])"
   ]
  },
  {
   "cell_type": "code",
   "execution_count": 14,
   "id": "7bbe2e49",
   "metadata": {},
   "outputs": [
    {
     "name": "stdout",
     "output_type": "stream",
     "text": [
      "select column of A:\n",
      "[ 16.234129 -16.234129]\n"
     ]
    }
   ],
   "source": [
    "column_select = A[:, 90]\n",
    "\n",
    "# Print the selected column\n",
    "print(\"select column of A:\")\n",
    "mask = column_select != 0\n",
    "nonzero_elements = column_select[mask]\n",
    "print(nonzero_elements)"
   ]
  },
  {
   "cell_type": "code",
   "execution_count": 22,
   "id": "e28d176c",
   "metadata": {},
   "outputs": [
    {
     "name": "stdout",
     "output_type": "stream",
     "text": [
      "Number of elements less than 0 in volatage: 20700\n",
      "less zero conductance: [-113754.6 -113754.6 -113754.6 ... -299890.6 -299890.6 -299890.6]\n"
     ]
    }
   ],
   "source": [
    "mask = volatage < 0\n",
    "\n",
    "# Count the number of True values in the mask\n",
    "count_less_than_zero = np.sum(mask)\n",
    "\n",
    "# Print the result\n",
    "print(\"Number of elements less than 0 in volatage:\", count_less_than_zero)\n",
    "\n",
    "less_zero_elements = volatage[volatage < 0]\n",
    "print(\"less zero conductance:\", less_zero_elements)\n"
   ]
  },
  {
   "cell_type": "code",
   "execution_count": 7,
   "id": "3d478320",
   "metadata": {},
   "outputs": [
    {
     "name": "stdout",
     "output_type": "stream",
     "text": [
      "First element less than 0 is at index: 90\n"
     ]
    }
   ],
   "source": [
    "# Find the indices where volatage is less than 0\n",
    "indices = np.where(volatage < 0)[0]\n",
    "\n",
    "# Get the first index if it exists\n",
    "if indices.size > 0:\n",
    "    first_negative_index = indices[0]\n",
    "    print(\"First element less than 0 is at index:\", first_negative_index)\n",
    "else:\n",
    "    print(\"No elements less than 0 found.\")"
   ]
  },
  {
   "cell_type": "code",
   "execution_count": 45,
   "id": "63ebb733",
   "metadata": {},
   "outputs": [
    {
     "name": "stdout",
     "output_type": "stream",
     "text": [
      "voltage: [ 8.076774e-01  8.076774e-01  8.076906e-01 ... -2.998906e+05 -2.998906e+05\n",
      "  8.100000e-01]\n",
      "residual: 46.56172261490813\n"
     ]
    }
   ],
   "source": [
    "residual = np.linalg.norm(A @ volatage - current)\n",
    "print(\"voltage:\", volatage)\n",
    "print(f\"residual: {residual}\")"
   ]
  },
  {
   "cell_type": "code",
   "execution_count": 44,
   "id": "6abcc3f2",
   "metadata": {},
   "outputs": [
    {
     "name": "stdout",
     "output_type": "stream",
     "text": [
      "test voltage: [0.80999 0.80999 0.80999 ... 0.80999 0.80999 0.80999]\n",
      "residual: 10.000000072370868\n"
     ]
    }
   ],
   "source": [
    "test_voltage = np.ones_like(volatage) * 0.80999\n",
    "print(\"test voltage:\", test_voltage)\n",
    "test_residual = np.linalg.norm(A @ test_voltage - current)\n",
    "print(f\"residual: {test_residual}\")"
   ]
  },
  {
   "cell_type": "code",
   "execution_count": 46,
   "id": "f44dc0c0",
   "metadata": {},
   "outputs": [
    {
     "name": "stdout",
     "output_type": "stream",
     "text": [
      "[2.28938656e-04 1.63938842e-03 1.50719387e-03 ... 1.94983505e+01\n",
      " 1.93183824e+01 1.00001003e+00]\n"
     ]
    }
   ],
   "source": [
    "# 标准化矩阵\n",
    "A_norm = A / np.linalg.norm(A, axis=0)  # 按列标准化\n",
    "b_norm = current / np.linalg.norm(current)\n",
    "X = np.linalg.solve(A_norm, b_norm)\n",
    "print(X)"
   ]
  },
  {
   "cell_type": "code",
   "execution_count": 47,
   "id": "b5c84c2f",
   "metadata": {},
   "outputs": [
    {
     "ename": "",
     "evalue": "",
     "output_type": "error",
     "traceback": [
      "\u001b[1;31mThe Kernel crashed while executing code in the current cell or a previous cell. \n",
      "\u001b[1;31mPlease review the code in the cell(s) to identify a possible cause of the failure. \n",
      "\u001b[1;31mClick <a href='https://aka.ms/vscodeJupyterKernelCrash'>here</a> for more info. \n",
      "\u001b[1;31mView Jupyter <a href='command:jupyter.viewOutput'>log</a> for further details."
     ]
    }
   ],
   "source": [
    "X = np.linalg.pinv(A) @ current\n",
    "print(X)"
   ]
  },
  {
   "cell_type": "code",
   "execution_count": 9,
   "id": "001fc3d6",
   "metadata": {},
   "outputs": [
    {
     "name": "stdout",
     "output_type": "stream",
     "text": [
      "0.7873041\n"
     ]
    }
   ],
   "source": [
    "print(volatage[89])"
   ]
  },
  {
   "cell_type": "code",
   "execution_count": null,
   "id": "500d6216",
   "metadata": {},
   "outputs": [
    {
     "name": "stdout",
     "output_type": "stream",
     "text": [
      "IRDrop 最大值: 0.2311\n",
      "IRDrop 最小值: 0.0006786\n"
     ]
    }
   ],
   "source": [
    "import pandas as pd\n",
    "import numpy as np\n",
    "\n",
    "# 读取 CSV\n",
    "df = pd.read_csv('/home/taosimin/iEDA24/iEDA/bin/spef_def/aes_ir_drop.csv')\n",
    "\n",
    "# 转为 NumPy 数组\n",
    "ir_drop = df['IR Drop'].to_numpy()\n",
    "\n",
    "# 计算最大值和最小值\n",
    "ir_drop_max = np.max(ir_drop)\n",
    "ir_drop_min = np.min(ir_drop)\n",
    "print(f\"IRDrop 最大值: {ir_drop_max}\")\n",
    "print(f\"IRDrop 最小值: {ir_drop_min}\")"
   ]
  }
 ],
 "metadata": {
  "kernelspec": {
   "display_name": "tao-python",
   "language": "python",
   "name": "python3"
  },
  "language_info": {
   "codemirror_mode": {
    "name": "ipython",
    "version": 3
   },
   "file_extension": ".py",
   "mimetype": "text/x-python",
   "name": "python",
   "nbconvert_exporter": "python",
   "pygments_lexer": "ipython3",
   "version": "3.11.5"
  }
 },
 "nbformat": 4,
 "nbformat_minor": 5
}
