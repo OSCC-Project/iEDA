{
 "cells": [
  {
   "cell_type": "code",
   "execution_count": 21,
   "id": "4aa45548",
   "metadata": {},
   "outputs": [
    {
     "name": "stdout",
     "output_type": "stream",
     "text": [
      "(29232, 29232)\n",
      "[1000.005617    0.          0.       ...    0.          0.\n",
      "    0.      ]\n"
     ]
    }
   ],
   "source": [
    "from scipy.linalg import lu\n",
    "import numpy as np\n",
    "A = np.loadtxt('/home/taosimin/iEDA24/iEDA/bin/matrix.txt')\n",
    "print(A.shape)\n",
    "print(A[0])\n",
    "# det = np.linalg.det(A)\n",
    "# print(\"det(A) = \", det)\n",
    "\n",
    "# P, L, U = lu(A)\n",
    "# print(\"L\\n\", L)\n",
    "# print(\"U\\n\", U)\n",
    "# print(\"P\\n\", P)"
   ]
  },
  {
   "cell_type": "code",
   "execution_count": 36,
   "id": "7b2d383a",
   "metadata": {},
   "outputs": [
    {
     "name": "stdout",
     "output_type": "stream",
     "text": [
      "nonzero_elements =  [ 1.00000187e+03 -1.86900000e-03 -1.00000000e+03]\n"
     ]
    }
   ],
   "source": [
    "select_A_row = A[2]\n",
    "nonzero_elements = select_A_row[select_A_row != 0]\n",
    "print(\"nonzero_elements = \", nonzero_elements)"
   ]
  },
  {
   "cell_type": "code",
   "execution_count": 37,
   "id": "d0985d44",
   "metadata": {},
   "outputs": [
    {
     "name": "stdout",
     "output_type": "stream",
     "text": [
      "non zero conductance: [-1.657000e-03 -3.960000e-03 -1.000000e+03 ... -1.003857e+00 -2.971471e+00\n",
      " -1.507400e-02]\n",
      "sum resistance:  -1222904.748853284\n"
     ]
    }
   ],
   "source": [
    "# 获取矩阵形状\n",
    "n = A.shape[0]\n",
    "\n",
    "# 创建布尔掩码，标记非对角元素（对角线元素为 False）\n",
    "non_diagonal_mask = ~np.eye(n, dtype=bool)\n",
    "\n",
    "# 提取非对角元素\n",
    "non_diagonal_elements = A[non_diagonal_mask]\n",
    "\n",
    "\n",
    "# 过滤非零元素\n",
    "non_zero_elements = non_diagonal_elements[non_diagonal_elements != 0]\n",
    "print(\"non zero conductance:\", non_zero_elements)\n",
    "\n",
    "# 计算倒数并求和\n",
    "reciprocal_sum = np.sum(1 / non_zero_elements)\n",
    "print(\"sum resistance: \", reciprocal_sum)"
   ]
  },
  {
   "cell_type": "code",
   "execution_count": 22,
   "id": "8589db40",
   "metadata": {},
   "outputs": [
    {
     "name": "stdout",
     "output_type": "stream",
     "text": [
      "(29232,)\n",
      "[ 0.000000e+00  0.000000e+00  0.000000e+00 ... -5.481111e-11 -2.191358e-11\n",
      "  1.000000e+09]\n"
     ]
    }
   ],
   "source": [
    "current = np.loadtxt('/home/taosimin/iEDA24/iEDA/bin/current.txt')\n",
    "print(current.shape)\n",
    "print(current)"
   ]
  },
  {
   "cell_type": "code",
   "execution_count": 31,
   "id": "927adbd3",
   "metadata": {},
   "outputs": [
    {
     "name": "stdout",
     "output_type": "stream",
     "text": [
      "non-negative sum =  0.05439902411985316\n"
     ]
    }
   ],
   "source": [
    "instance_current_sum = current[current < 0].sum()\n",
    "print(\"non-negative sum = \", -instance_current_sum)"
   ]
  },
  {
   "cell_type": "code",
   "execution_count": 23,
   "id": "f0bce32f",
   "metadata": {},
   "outputs": [
    {
     "name": "stdout",
     "output_type": "stream",
     "text": [
      "(29232,)\n",
      "[-6.972624e+00 -6.975594e+00 -7.007925e+00 ... -7.099223e+00 -7.099223e+00\n",
      "  1.000000e-03]\n"
     ]
    }
   ],
   "source": [
    "volatage = np.loadtxt('/home/taosimin/iEDA24/iEDA/bin/voltage.txt')\n",
    "print(volatage.shape)\n",
    "print(volatage)\n"
   ]
  },
  {
   "cell_type": "code",
   "execution_count": 26,
   "id": "f4c94c16",
   "metadata": {},
   "outputs": [
    {
     "name": "stdout",
     "output_type": "stream",
     "text": [
      "nonzero_elements: [-1.5074e-02  1.0000e+12]\n",
      "select_A_row: [0.e+00 0.e+00 0.e+00 ... 0.e+00 0.e+00 1.e+12]\n",
      "current: 1000000000.0543995\n"
     ]
    }
   ],
   "source": [
    "select_A_row = A[29231]\n",
    "row_current = select_A_row @ volatage\n",
    "nonzero_elements = select_A_row[select_A_row != 0]\n",
    "print(\"nonzero_elements:\", nonzero_elements)\n",
    "print(\"select_A_row:\", select_A_row)\n",
    "print(\"current:\", row_current)"
   ]
  },
  {
   "cell_type": "code",
   "execution_count": 25,
   "id": "001fc3d6",
   "metadata": {},
   "outputs": [
    {
     "name": "stdout",
     "output_type": "stream",
     "text": [
      "0.001\n"
     ]
    }
   ],
   "source": [
    "print(volatage[29231])"
   ]
  }
 ],
 "metadata": {
  "kernelspec": {
   "display_name": "tao-python",
   "language": "python",
   "name": "python3"
  },
  "language_info": {
   "codemirror_mode": {
    "name": "ipython",
    "version": 3
   },
   "file_extension": ".py",
   "mimetype": "text/x-python",
   "name": "python",
   "nbconvert_exporter": "python",
   "pygments_lexer": "ipython3",
   "version": "3.11.5"
  }
 },
 "nbformat": 4,
 "nbformat_minor": 5
}
