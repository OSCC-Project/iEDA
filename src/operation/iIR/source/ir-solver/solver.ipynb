{
 "cells": [
  {
   "cell_type": "code",
   "execution_count": 2,
   "id": "5923b0fa",
   "metadata": {},
   "outputs": [
    {
     "name": "stdout",
     "output_type": "stream",
     "text": [
      "(29341, 29341)\n",
      "[ 162.341286 -162.341286    0.       ...    0.          0.\n",
      "    0.      ]\n"
     ]
    }
   ],
   "source": [
    "from scipy.linalg import lu\n",
    "import numpy as np\n",
    "A = np.loadtxt('/home/taosimin/iEDA24/iEDA/bin/matrix.txt')\n",
    "print(A.shape)\n",
    "print(A[0])"
   ]
  },
  {
   "cell_type": "code",
   "execution_count": 3,
   "id": "25c56662",
   "metadata": {},
   "outputs": [
    {
     "name": "stdout",
     "output_type": "stream",
     "text": [
      "(29341,)\n",
      "[ 0.000000e+00  0.000000e+00  0.000000e+00 ... -2.399728e-10 -2.399728e-10\n",
      "  8.100000e+05]\n"
     ]
    }
   ],
   "source": [
    "current = np.loadtxt('/home/taosimin/iEDA24/iEDA/bin/current.txt')\n",
    "print(current.shape)\n",
    "print(current)"
   ]
  },
  {
   "cell_type": "code",
   "execution_count": 4,
   "id": "278d3de9",
   "metadata": {},
   "outputs": [
    {
     "name": "stdout",
     "output_type": "stream",
     "text": [
      "(29341,)\n",
      "[ 8.076774e-01  8.076774e-01  8.076906e-01 ... -2.998906e+05 -2.998906e+05\n",
      "  8.100000e-01]\n"
     ]
    }
   ],
   "source": [
    "voltage = np.loadtxt('/home/taosimin/iEDA24/iEDA/bin/voltage.txt')\n",
    "print(voltage.shape)\n",
    "print(voltage)"
   ]
  },
  {
   "cell_type": "code",
   "execution_count": 13,
   "id": "d1c8f67f",
   "metadata": {},
   "outputs": [],
   "source": [
    "init = np.ones_like(voltage) * 0.78"
   ]
  },
  {
   "cell_type": "code",
   "execution_count": 15,
   "id": "f1238cf7",
   "metadata": {},
   "outputs": [],
   "source": [
    "import numpy as np\n",
    "\n",
    "def feature_enhancer(feature, target, init=None, tol=1e-6, maxiter=100):\n",
    "    N = len(target)\n",
    "    if init is None:\n",
    "        enhanced_feature = np.zeros(N, dtype=float)\n",
    "    else:\n",
    "        enhanced_feature = np.array(init, dtype=float)\n",
    "        if not (enhanced_feature.shape == (N,1) or enhanced_feature.shape == (N,)):\n",
    "            raise ValueError('shapes of feature {} and x0 {} are incompatible'\n",
    "               .format(feature.shape, enhanced_feature.shape))\n",
    "    enhanced_feature = enhanced_feature.ravel()\n",
    "\n",
    "    residual = target - feature.dot(enhanced_feature)\n",
    "    p = residual.copy()\n",
    "    r_dot_r = np.dot(residual, residual)\n",
    "\n",
    "    for i in range(maxiter):\n",
    "        Ap = feature.dot(p)\n",
    "        alpha = r_dot_r / np.dot(p, Ap)\n",
    "        enhanced_feature += alpha * p\n",
    "        residual -= alpha * Ap\n",
    "\n",
    "        r_dot_r_new = np.dot(residual, residual)\n",
    "        beta = r_dot_r_new / r_dot_r\n",
    "        p = residual + beta * p\n",
    "        r_dot_r = r_dot_r_new\n",
    "\n",
    "        if r_dot_r < tol:\n",
    "            break\n",
    "    return enhanced_feature, i\n"
   ]
  },
  {
   "cell_type": "code",
   "execution_count": 16,
   "id": "d6417c0c",
   "metadata": {},
   "outputs": [
    {
     "name": "stdout",
     "output_type": "stream",
     "text": [
      "enhanced_feature:  [0.78       0.77999999 0.77999999 ... 0.78000001 0.78       0.80999971]\n",
      "num_iter:  99\n"
     ]
    }
   ],
   "source": [
    "enhanced_feature, num_iter =feature_enhancer(A, current, init=init, tol=1e-6, maxiter=100)\n",
    "print(\"enhanced_feature: \", enhanced_feature)\n",
    "print(\"num_iter: \", num_iter)"
   ]
  },
  {
   "cell_type": "code",
   "execution_count": 17,
   "id": "2ce16856",
   "metadata": {},
   "outputs": [
    {
     "name": "stdout",
     "output_type": "stream",
     "text": [
      "[0.78 0.78 0.78 ... 0.78 0.78 0.78]\n",
      "(29341,)\n"
     ]
    }
   ],
   "source": [
    "print(init)\n",
    "print(init.shape)"
   ]
  },
  {
   "cell_type": "code",
   "execution_count": 18,
   "id": "ddeb7373",
   "metadata": {},
   "outputs": [
    {
     "name": "stdout",
     "output_type": "stream",
     "text": [
      "Solution X:\n",
      " [0.78      0.78      0.78      ... 0.78      0.78      0.8099997]\n",
      "Convergence info: 0\n"
     ]
    }
   ],
   "source": [
    "import numpy as np\n",
    "from scipy.sparse.linalg import cg\n",
    "\n",
    "# Solve the system AX = b using the Conjugate Gradient method\n",
    "x, info = cg(A, current, x0=init, tol=1e-6, maxiter=10000)\n",
    "\n",
    "# Print the solution and the convergence information\n",
    "print(\"Solution X:\\n\", x)\n",
    "print(\"Convergence info:\", info)"
   ]
  }
 ],
 "metadata": {
  "kernelspec": {
   "display_name": "tao-python",
   "language": "python",
   "name": "python3"
  },
  "language_info": {
   "codemirror_mode": {
    "name": "ipython",
    "version": 3
   },
   "file_extension": ".py",
   "mimetype": "text/x-python",
   "name": "python",
   "nbconvert_exporter": "python",
   "pygments_lexer": "ipython3",
   "version": "3.11.5"
  }
 },
 "nbformat": 4,
 "nbformat_minor": 5
}
