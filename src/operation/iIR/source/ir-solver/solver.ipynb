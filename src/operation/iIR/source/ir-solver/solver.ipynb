{
 "cells": [
  {
   "cell_type": "code",
   "execution_count": 2,
   "id": "5923b0fa",
   "metadata": {},
   "outputs": [
    {
     "name": "stdout",
     "output_type": "stream",
     "text": [
      "(28153, 28153)\n",
      "[1000.112343    0.          0.       ...    0.          0.\n",
      "    0.      ]\n"
     ]
    }
   ],
   "source": [
    "from scipy.linalg import lu\n",
    "import numpy as np\n",
    "A = np.loadtxt('/home/taosimin/iEDA24/iEDA/bin/matrix.txt')\n",
    "print(A.shape)\n",
    "print(A[0])"
   ]
  },
  {
   "cell_type": "code",
   "execution_count": null,
   "id": "23c7eba9",
   "metadata": {},
   "outputs": [],
   "source": [
    "from scipy.sparse import csr_matrix\n",
    "A_csr = csr_matrix(A)"
   ]
  },
  {
   "cell_type": "code",
   "execution_count": 5,
   "id": "31605326",
   "metadata": {},
   "outputs": [
    {
     "name": "stdout",
     "output_type": "stream",
     "text": [
      "Row 0:\n",
      "  Column 0: 1000.112343\n",
      "  Column 7: -0.033141\n",
      "  Column 8: -0.079202\n",
      "  Column 2487: -1000.0\n",
      "\n",
      "Row 1:\n",
      "  Column 1: 1000.104879\n",
      "  Column 8: -0.035135\n",
      "  Column 26: -0.069745\n",
      "  Column 2504: -1000.0\n",
      "\n",
      "Row 2:\n",
      "  Column 2: 1000.037383\n",
      "  Column 26: -0.037383\n",
      "  Column 2513: -1000.0\n",
      "\n",
      "Row 3:\n",
      "  Column 3: 1000.135631\n",
      "  Column 9: -0.031788\n",
      "  Column 10: -0.103842\n",
      "  Column 739: -1000.0\n",
      "\n",
      "Row 4:\n",
      "  Column 4: 1000.156442\n",
      "  Column 10: -0.030148\n",
      "  Column 11: -0.126295\n",
      "  Column 844: -1000.0\n",
      "\n",
      "Row 5:\n",
      "  Column 5: 1000.088168\n",
      "  Column 9: -0.088168\n",
      "  Column 634: -1000.0\n",
      "\n",
      "Row 6:\n",
      "  Column 6: 1000.189802\n",
      "  Column 11: -0.028668\n",
      "  Column 12: -0.161134\n",
      "  Column 876: -1000.0\n",
      "\n",
      "Row 7:\n",
      "  Column 0: -0.033141\n",
      "  Column 7: 1000.124767\n",
      "  Column 22: -0.091625\n",
      "  Column 1934: -1000.0\n",
      "\n",
      "Row 8:\n",
      "  Column 0: -0.079202\n",
      "  Column 1: -0.035135\n",
      "  Column 8: 1000.114336\n",
      "  Column 2031: -1000.0\n",
      "\n",
      "Row 9:\n",
      "  Column 3: -0.031788\n",
      "  Column 5: -0.088168\n",
      "  Column 9: 1000.119956\n",
      "  Column 2257: -1000.0\n",
      "\n"
     ]
    }
   ],
   "source": [
    "# Function to print each row of the CSR matrix\n",
    "def print_csr_matrix_rows(csr_mat):\n",
    "    for i in range(0, 10):\n",
    "        start_idx = csr_mat.indptr[i]\n",
    "        end_idx = csr_mat.indptr[i + 1]\n",
    "        row_data = csr_mat.data[start_idx:end_idx]\n",
    "        row_indices = csr_mat.indices[start_idx:end_idx]\n",
    "        print(f\"Row {i}:\")\n",
    "        for j in range(len(row_data)):\n",
    "            print(f\"  Column {row_indices[j]}: {row_data[j]}\")\n",
    "        print()\n",
    "\n",
    "# Print each row of the CSR matrix\n",
    "print_csr_matrix_rows(A_csr)"
   ]
  },
  {
   "cell_type": "code",
   "execution_count": 6,
   "id": "25c56662",
   "metadata": {},
   "outputs": [
    {
     "name": "stdout",
     "output_type": "stream",
     "text": [
      "(28153,)\n",
      "[ 0.000000e+00  0.000000e+00  0.000000e+00 ... -2.399728e-10 -2.399728e-10\n",
      "  8.100000e+08]\n"
     ]
    }
   ],
   "source": [
    "current = np.loadtxt('/home/taosimin/iEDA24/iEDA/bin/current.txt')\n",
    "print(current.shape)\n",
    "print(current)"
   ]
  },
  {
   "cell_type": "code",
   "execution_count": 4,
   "id": "278d3de9",
   "metadata": {},
   "outputs": [
    {
     "name": "stdout",
     "output_type": "stream",
     "text": [
      "(29341,)\n",
      "[ 8.076774e-01  8.076774e-01  8.076906e-01 ... -2.998906e+05 -2.998906e+05\n",
      "  8.100000e-01]\n"
     ]
    }
   ],
   "source": [
    "voltage = np.loadtxt('/home/taosimin/iEDA24/iEDA/bin/voltage.txt')\n",
    "print(voltage.shape)\n",
    "print(voltage)"
   ]
  },
  {
   "cell_type": "code",
   "execution_count": 14,
   "id": "d1c8f67f",
   "metadata": {},
   "outputs": [
    {
     "name": "stdout",
     "output_type": "stream",
     "text": [
      "[0.729 0.729 0.729 ... 0.729 0.729 0.729]\n"
     ]
    }
   ],
   "source": [
    "init = np.ones_like(current) * 0.81 * 0.9\n",
    "print(init)"
   ]
  },
  {
   "cell_type": "code",
   "execution_count": null,
   "id": "f1238cf7",
   "metadata": {},
   "outputs": [],
   "source": [
    "import numpy as np\n",
    "import pdb\n",
    "\n",
    "def feature_enhancer(feature, target, init=None, tol=1e-6, maxiter=100):\n",
    "    N = len(target)\n",
    "    if init is None:\n",
    "        enhanced_feature = np.zeros(N, dtype=float)\n",
    "    else:\n",
    "        enhanced_feature = np.array(init, dtype=float)\n",
    "        if not (enhanced_feature.shape == (N,1) or enhanced_feature.shape == (N,)):\n",
    "            raise ValueError('shapes of feature {} and x0 {} are incompatible'\n",
    "               .format(feature.shape, enhanced_feature.shape))\n",
    "    enhanced_feature = enhanced_feature.ravel()\n",
    "\n",
    "    residual = target - feature.dot(enhanced_feature)    \n",
    "    \n",
    "    print(residual)\n",
    "    # pdb.set_trace()\n",
    "    \n",
    "    p = residual.copy()\n",
    "    r_dot_r = np.dot(residual, residual)\n",
    "\n",
    "    for i in range(maxiter):\n",
    "        Ap = feature.dot(p)\n",
    "        alpha = r_dot_r / np.dot(p, Ap)\n",
    "        enhanced_feature += alpha * p\n",
    "        residual -= alpha * Ap\n",
    "\n",
    "        r_dot_r_new = np.dot(residual, residual)\n",
    "        beta = r_dot_r_new / r_dot_r\n",
    "        p = residual + beta * p\n",
    "        r_dot_r = r_dot_r_new\n",
    "\n",
    "        if r_dot_r < tol:\n",
    "            break\n",
    "    return enhanced_feature, i\n"
   ]
  },
  {
   "cell_type": "code",
   "execution_count": null,
   "id": "d6417c0c",
   "metadata": {},
   "outputs": [
    {
     "name": "stdout",
     "output_type": "stream",
     "text": [
      "[ 0.00000000e+00  7.29000021e-07  0.00000000e+00 ... -2.25420885e-10\n",
      " -2.39972800e-10  8.10000000e+07]\n",
      "> \u001b[0;32m/tmp/ipykernel_2489840/1826088486.py\u001b[0m(20)\u001b[0;36mfeature_enhancer\u001b[0;34m()\u001b[0m\n",
      "\u001b[0;32m     18 \u001b[0;31m    \u001b[0mpdb\u001b[0m\u001b[0;34m.\u001b[0m\u001b[0mset_trace\u001b[0m\u001b[0;34m(\u001b[0m\u001b[0;34m)\u001b[0m\u001b[0;34m\u001b[0m\u001b[0;34m\u001b[0m\u001b[0m\n",
      "\u001b[0m\u001b[0;32m     19 \u001b[0;31m\u001b[0;34m\u001b[0m\u001b[0m\n",
      "\u001b[0m\u001b[0;32m---> 20 \u001b[0;31m    \u001b[0mp\u001b[0m \u001b[0;34m=\u001b[0m \u001b[0mresidual\u001b[0m\u001b[0;34m.\u001b[0m\u001b[0mcopy\u001b[0m\u001b[0;34m(\u001b[0m\u001b[0;34m)\u001b[0m\u001b[0;34m\u001b[0m\u001b[0;34m\u001b[0m\u001b[0m\n",
      "\u001b[0m\u001b[0;32m     21 \u001b[0;31m    \u001b[0mr_dot_r\u001b[0m \u001b[0;34m=\u001b[0m \u001b[0mnp\u001b[0m\u001b[0;34m.\u001b[0m\u001b[0mdot\u001b[0m\u001b[0;34m(\u001b[0m\u001b[0mresidual\u001b[0m\u001b[0;34m,\u001b[0m \u001b[0mresidual\u001b[0m\u001b[0;34m)\u001b[0m\u001b[0;34m\u001b[0m\u001b[0;34m\u001b[0m\u001b[0m\n",
      "\u001b[0m\u001b[0;32m     22 \u001b[0;31m\u001b[0;34m\u001b[0m\u001b[0m\n",
      "\u001b[0m\n"
     ]
    }
   ],
   "source": [
    "enhanced_feature, num_iter =feature_enhancer(A, current, init=init, tol=1e-6, maxiter=10000)\n",
    "print(\"enhanced_feature: \", enhanced_feature)\n",
    "print(\"num_iter: \", num_iter)"
   ]
  },
  {
   "cell_type": "code",
   "execution_count": 24,
   "id": "2ce16856",
   "metadata": {},
   "outputs": [
    {
     "name": "stdout",
     "output_type": "stream",
     "text": [
      "[0.64 0.64 0.64 ... 0.64 0.64 0.64]\n",
      "(29341,)\n"
     ]
    }
   ],
   "source": [
    "print(init)\n",
    "print(init.shape)"
   ]
  },
  {
   "cell_type": "code",
   "execution_count": 25,
   "id": "ddeb7373",
   "metadata": {},
   "outputs": [
    {
     "name": "stdout",
     "output_type": "stream",
     "text": [
      "Solution X:\n",
      " [0.64       0.64       0.64       ... 0.64000006 0.64000006 0.80999837]\n",
      "Convergence info: 0\n"
     ]
    }
   ],
   "source": [
    "import numpy as np\n",
    "from scipy.sparse.linalg import cg\n",
    "\n",
    "# Solve the system AX = b using the Conjugate Gradient method\n",
    "x, info = cg(A, current, x0=init, tol=1e-6, maxiter=10000)\n",
    "\n",
    "# Print the solution and the convergence information\n",
    "print(\"Solution X:\\n\", x)\n",
    "print(\"Convergence info:\", info)"
   ]
  }
 ],
 "metadata": {
  "kernelspec": {
   "display_name": "tao-python",
   "language": "python",
   "name": "python3"
  },
  "language_info": {
   "codemirror_mode": {
    "name": "ipython",
    "version": 3
   },
   "file_extension": ".py",
   "mimetype": "text/x-python",
   "name": "python",
   "nbconvert_exporter": "python",
   "pygments_lexer": "ipython3",
   "version": "3.11.5"
  }
 },
 "nbformat": 4,
 "nbformat_minor": 5
}
